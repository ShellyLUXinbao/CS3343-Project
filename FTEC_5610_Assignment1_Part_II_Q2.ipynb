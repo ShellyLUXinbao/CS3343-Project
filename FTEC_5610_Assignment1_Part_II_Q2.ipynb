{
  "nbformat": 4,
  "nbformat_minor": 0,
  "metadata": {
    "colab": {
      "provenance": [],
      "authorship_tag": "ABX9TyPXebGR2bTbKFxj+MQPTiZq",
      "include_colab_link": true
    },
    "kernelspec": {
      "name": "python3",
      "display_name": "Python 3"
    },
    "language_info": {
      "name": "python"
    }
  },
  "cells": [
    {
      "cell_type": "markdown",
      "metadata": {
        "id": "view-in-github",
        "colab_type": "text"
      },
      "source": [
        "<a href=\"https://colab.research.google.com/github/ShellyLUXinbao/CS3343-Project/blob/main/FTEC_5610_Assignment1_Part_II_Q2.ipynb\" target=\"_parent\"><img src=\"https://colab.research.google.com/assets/colab-badge.svg\" alt=\"Open In Colab\"/></a>"
      ]
    },
    {
      "cell_type": "markdown",
      "source": [
        "**Euqal-Risk Contribution Portfolio**"
      ],
      "metadata": {
        "id": "G0vYZKUsmxSt"
      }
    },
    {
      "cell_type": "code",
      "source": [
        "import numpy as np\n",
        "from scipy.optimize import minimize\n",
        "\n",
        "\n",
        "std_dev = {'SPY': 0.193950995, 'GOVT': 0.074568556, 'GSG': 0.246892705}\n",
        "cor_coeff = {\n",
        "    'SPY': {'GOVT': 0.134090182, 'GSG': 0.336345617},\n",
        "    'GOVT': {'SPY': 0.134090182, 'GSG': -0.085820497},\n",
        "    'GSG': {'SPY': 0.336345617, 'GOVT': -0.085820497}\n",
        "}\n",
        "\n",
        "\n",
        "cov_l = []\n",
        "i=0\n",
        "for a, dict_ in cor_coeff.items():\n",
        "    cur = a\n",
        "    l = []\n",
        "    j=0\n",
        "    for o, cor in dict_.items():\n",
        "      if i==j:\n",
        "        l.append(std_dev[cur]**2)\n",
        "        j+=1\n",
        "      l.append(std_dev[cur]*std_dev[o]*cor_coeff[cur][o])\n",
        "      j+=1\n",
        "      if i==j:\n",
        "        l.append(std_dev[cur]**2)\n",
        "        j+=1\n",
        "    cov_l.append(l)\n",
        "    i+=1\n",
        "cov = np.array(cov_l)\n",
        "\n",
        "\n",
        "def objective(w, cov):\n",
        "    port_var = np.dot(w.T, np.dot(cov, w))\n",
        "    marginal = np.dot(cov, w)\n",
        "    return np.std(w * marginal / np.sqrt(port_var))\n",
        "\n",
        "\n",
        "init_w = np.array([1/3, 1/3, 1/3])\n",
        "cons = ({'type': 'eq', 'fun': lambda w: np.sum(w) - 1})\n",
        "bnds = [(0, 1)] * 3\n",
        "\n",
        "result = minimize(objective, init_w, args=(cov,), bounds=bnds, constraints=cons)\n",
        "ERC_weights = result.x\n",
        "\n",
        "print('Equal-Risk-Contribution Portfolio for Period 1:')\n",
        "i=0\n",
        "for name,dict_ in std_dev.items():\n",
        "    print(str(name)+'_w: '+str(ERC_weights[i]))\n",
        "    i+=1"
      ],
      "metadata": {
        "id": "QCeMcfHOjyBC",
        "colab": {
          "base_uri": "https://localhost:8080/"
        },
        "outputId": "5478bb8a-c504-418b-96f7-ad683fcddc19"
      },
      "execution_count": 2,
      "outputs": [
        {
          "output_type": "stream",
          "name": "stdout",
          "text": [
            "Equal-Risk-Contribution Portfolio for Period 1:\n",
            "SPY_w: 0.19703113812686254\n",
            "GOVT_w: 0.6276372693133903\n",
            "GSG_w: 0.17533159255974712\n"
          ]
        }
      ]
    },
    {
      "cell_type": "code",
      "source": [],
      "metadata": {
        "id": "xQUibqUtX1Co"
      },
      "execution_count": null,
      "outputs": []
    }
  ]
}